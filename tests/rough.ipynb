{
 "cells": [
  {
   "cell_type": "code",
   "execution_count": 1,
   "id": "3f3e384e",
   "metadata": {},
   "outputs": [
    {
     "name": "stdout",
     "output_type": "stream",
     "text": [
      "pygame 2.6.1 (SDL 2.28.4, Python 3.13.2)\n",
      "Hello from the pygame community. https://www.pygame.org/contribute.html\n"
     ]
    }
   ],
   "source": [
    "import torch\n",
    "from pssolver import SpectralSolver"
   ]
  },
  {
   "cell_type": "code",
   "execution_count": null,
   "id": "5dcb9757",
   "metadata": {},
   "outputs": [
    {
     "name": "stdout",
     "output_type": "stream",
     "text": [
      "\u001b[31mERROR: Could not find a version that satisfies the requirement pssolver (from versions: none)\u001b[0m\u001b[31m\n",
      "\u001b[0m\u001b[31mERROR: No matching distribution found for pssolver\u001b[0m\u001b[31m\n",
      "\u001b[0m"
     ]
    }
   ],
   "source": []
  },
  {
   "cell_type": "code",
   "execution_count": 9,
   "id": "7e58dcd4",
   "metadata": {},
   "outputs": [],
   "source": [
    "class ZeroModel(torch.nn.Module):\n",
    "    def forward(self, fields):\n",
    "        return 0\n",
    "nlmodel = ZeroModel()"
   ]
  },
  {
   "cell_type": "code",
   "execution_count": 10,
   "id": "d59802ed",
   "metadata": {},
   "outputs": [
    {
     "data": {
      "text/plain": [
       "(tensor([[1.]]),\n",
       " tensor([[-1.7874e+00,  6.7377e-01,  5.1431e-01,  7.2913e-01,  3.1684e-01],\n",
       "         [ 2.6778e-01,  1.0236e+00,  7.1265e-01,  1.6832e+00, -2.1930e-01],\n",
       "         [ 1.3228e-01,  4.1002e-01, -4.7121e-01,  1.3746e-01, -1.8952e+00],\n",
       "         [ 1.0968e+00,  2.7014e-01, -5.5755e-01, -1.4333e+00, -1.5772e+00],\n",
       "         [-2.6651e-01,  4.7450e-01, -4.6812e-01,  3.5337e-01, -9.0911e-04]]))"
      ]
     },
     "execution_count": 10,
     "metadata": {},
     "output_type": "execute_result"
    }
   ],
   "source": [
    "c = torch.randn(5,5)\n",
    "a =torch.ones(1,1)\n",
    "a,c"
   ]
  },
  {
   "cell_type": "code",
   "execution_count": 11,
   "id": "595761fc",
   "metadata": {},
   "outputs": [
    {
     "data": {
      "text/plain": [
       "tensor([[ 2.7874,  0.3262,  0.4857,  0.2709,  0.6832],\n",
       "        [ 0.7322, -0.0236,  0.2874, -0.6832,  1.2193],\n",
       "        [ 0.8677,  0.5900,  1.4712,  0.8625,  2.8952],\n",
       "        [-0.0968,  0.7299,  1.5575,  2.4333,  2.5772],\n",
       "        [ 1.2665,  0.5255,  1.4681,  0.6466,  1.0009]])"
      ]
     },
     "execution_count": 11,
     "metadata": {},
     "output_type": "execute_result"
    }
   ],
   "source": [
    "a-c"
   ]
  },
  {
   "cell_type": "code",
   "execution_count": 16,
   "id": "470b612d",
   "metadata": {},
   "outputs": [
    {
     "data": {
      "text/plain": [
       "(tensor([[ 0.1600,  0.6155, -0.4140,  2.4709,  0.9220],\n",
       "         [-0.6957,  2.1604, -0.3642,  1.1321,  1.5112],\n",
       "         [-0.5051, -0.2130,  0.2403, -0.6395,  0.1599],\n",
       "         [-0.8898, -0.2859,  0.4596,  0.4518, -0.1382],\n",
       "         [-0.8277, -0.8328,  0.6524, -0.4613, -0.4314]]),\n",
       " tensor([[ 0.7958, -0.0105, -0.7889, -1.1067, -0.4418],\n",
       "         [ 0.2745,  0.3832, -1.0990, -0.3047,  0.3937],\n",
       "         [ 0.3272, -1.4132, -0.8062, -0.7564, -0.7398],\n",
       "         [ 0.4808, -1.3227,  0.2973,  1.4978,  0.5296],\n",
       "         [-1.2017, -0.2959, -1.3813, -1.0704,  0.4249]]),\n",
       " tensor([[[ 1.0000,  1.0000,  1.0000,  1.0000,  1.0000],\n",
       "          [ 1.0000,  1.0000,  1.0000,  1.0000,  1.0000],\n",
       "          [ 1.0000,  1.0000,  1.0000,  1.0000,  1.0000],\n",
       "          [ 1.0000,  1.0000,  1.0000,  1.0000,  1.0000],\n",
       "          [ 1.0000,  1.0000,  1.0000,  1.0000,  1.0000]],\n",
       " \n",
       "         [[ 1.0000,  1.0000,  1.0000,  1.0000,  1.0000],\n",
       "          [ 1.0000,  1.0000,  1.0000,  1.0000,  1.0000],\n",
       "          [ 1.0000,  1.0000,  1.0000,  1.0000,  1.0000],\n",
       "          [ 1.0000,  1.0000,  1.0000,  1.0000,  1.0000],\n",
       "          [ 1.0000,  1.0000,  1.0000,  1.0000,  1.0000]],\n",
       " \n",
       "         [[ 1.0000,  1.0000,  1.0000,  1.0000,  1.0000],\n",
       "          [ 1.0000,  1.0000,  1.0000,  1.0000,  1.0000],\n",
       "          [ 1.0000,  1.0000,  1.0000,  1.0000,  1.0000],\n",
       "          [ 1.0000,  1.0000,  1.0000,  1.0000,  1.0000],\n",
       "          [ 1.0000,  1.0000,  1.0000,  1.0000,  1.0000]],\n",
       " \n",
       "         [[ 0.1600,  0.6155, -0.4140,  2.4709,  0.9220],\n",
       "          [-0.6957,  2.1604, -0.3642,  1.1321,  1.5112],\n",
       "          [-0.5051, -0.2130,  0.2403, -0.6395,  0.1599],\n",
       "          [-0.8898, -0.2859,  0.4596,  0.4518, -0.1382],\n",
       "          [-0.8277, -0.8328,  0.6524, -0.4613, -0.4314]],\n",
       " \n",
       "         [[ 0.7958, -0.0105, -0.7889, -1.1067, -0.4418],\n",
       "          [ 0.2745,  0.3832, -1.0990, -0.3047,  0.3937],\n",
       "          [ 0.3272, -1.4132, -0.8062, -0.7564, -0.7398],\n",
       "          [ 0.4808, -1.3227,  0.2973,  1.4978,  0.5296],\n",
       "          [-1.2017, -0.2959, -1.3813, -1.0704,  0.4249]]]))"
      ]
     },
     "execution_count": 16,
     "metadata": {},
     "output_type": "execute_result"
    }
   ],
   "source": [
    "a = torch.ones(3,5,5)\n",
    "b = torch.randn(5,5)\n",
    "c = torch.randn(5,5)\n",
    "d = torch.cat([a, b.unsqueeze(0), c.unsqueeze(0)])\n",
    "b,c,d"
   ]
  },
  {
   "cell_type": "code",
   "execution_count": null,
   "id": "e759c199",
   "metadata": {},
   "outputs": [
    {
     "data": {
      "text/plain": [
       "torch.Size([1, 10, 10])"
      ]
     },
     "execution_count": 14,
     "metadata": {},
     "output_type": "execute_result"
    }
   ],
   "source": [
    "a = torch.stack([torch.ones(10,10)])\n",
    "a.shape"
   ]
  },
  {
   "cell_type": "code",
   "execution_count": 7,
   "id": "70b2de72",
   "metadata": {},
   "outputs": [
    {
     "data": {
      "text/plain": [
       "tensor([[[2., 2., 2., 2., 2., 2., 2., 2., 2., 2.],\n",
       "         [2., 2., 2., 2., 2., 2., 2., 2., 2., 2.],\n",
       "         [2., 2., 2., 2., 2., 2., 2., 2., 2., 2.],\n",
       "         [2., 2., 2., 2., 2., 2., 2., 2., 2., 2.],\n",
       "         [2., 2., 2., 2., 2., 2., 2., 2., 2., 2.],\n",
       "         [2., 2., 2., 2., 2., 2., 2., 2., 2., 2.],\n",
       "         [2., 2., 2., 2., 2., 2., 2., 2., 2., 2.],\n",
       "         [2., 2., 2., 2., 2., 2., 2., 2., 2., 2.],\n",
       "         [2., 2., 2., 2., 2., 2., 2., 2., 2., 2.],\n",
       "         [2., 2., 2., 2., 2., 2., 2., 2., 2., 2.]],\n",
       "\n",
       "        [[1., 1., 1., 1., 1., 1., 1., 1., 1., 1.],\n",
       "         [1., 1., 1., 1., 1., 1., 1., 1., 1., 1.],\n",
       "         [1., 1., 1., 1., 1., 1., 1., 1., 1., 1.],\n",
       "         [1., 1., 1., 1., 1., 1., 1., 1., 1., 1.],\n",
       "         [1., 1., 1., 1., 1., 1., 1., 1., 1., 1.],\n",
       "         [1., 1., 1., 1., 1., 1., 1., 1., 1., 1.],\n",
       "         [1., 1., 1., 1., 1., 1., 1., 1., 1., 1.],\n",
       "         [1., 1., 1., 1., 1., 1., 1., 1., 1., 1.],\n",
       "         [1., 1., 1., 1., 1., 1., 1., 1., 1., 1.],\n",
       "         [1., 1., 1., 1., 1., 1., 1., 1., 1., 1.]]])"
      ]
     },
     "execution_count": 7,
     "metadata": {},
     "output_type": "execute_result"
    }
   ],
   "source": [
    "a + torch.stack([torch.ones(10,10),torch.zeros(10,10)])"
   ]
  },
  {
   "cell_type": "code",
   "execution_count": 2,
   "id": "b681e5a1",
   "metadata": {},
   "outputs": [],
   "source": [
    "N = 128\n",
    "L = 128\n",
    "dt = 0.1\n",
    "steps = 100000\n",
    "device = 'cuda' if torch.cuda.is_available() else 'cpu'\n",
    "\n",
    "solver = System(shape = (N,N), L=L, dt=dt, device=device, record_every_n_steps = steps/100)\n"
   ]
  },
  {
   "cell_type": "code",
   "execution_count": 3,
   "id": "6e90fa65",
   "metadata": {},
   "outputs": [],
   "source": [
    "\n",
    "def init_u(N):\n",
    "    u = torch.ones(N, N)\n",
    "    r = 10  # half size of perturbation square\n",
    "    u[N//2 - r:N//2 + r, N//2 - r:N//2 + r] = 0.50\n",
    "    u += 0.02 * torch.randn(N, N)\n",
    "    return u\n",
    "\n",
    "def init_v(N):\n",
    "    v = torch.zeros(N, N)\n",
    "    r = 10\n",
    "    v[N//2 - r:N//2 + r, N//2 - r:N//2 + r] = 0.25\n",
    "    v += 0.02 * torch.randn(N, N)\n",
    "    return v\n"
   ]
  },
  {
   "cell_type": "code",
   "execution_count": 4,
   "id": "6960bbc1",
   "metadata": {},
   "outputs": [],
   "source": [
    "\n",
    "# # --- Parameters ---\n",
    "du = 0.16\n",
    "dv = 0.08\n",
    "F = 0.06\n",
    "k = 0.062\n",
    "\n",
    "# --- Add active fields ---\n",
    "solver.model.add_dynamic_field(\n",
    "    \"u\",\n",
    "    init = init_u(N),\n",
    "    L_hat = -solver.q2 * (du),\n",
    "    N_hat = lambda R: torch.fft.fft2(-R[\"u\"] * R[\"v\"]**2 + F * (1 - R[\"u\"]))\n",
    ")\n",
    "# --- Add active fields ---\n",
    "solver.model.add_dynamic_field(\n",
    "    \"v\",\n",
    "    init =  init_v(N),\n",
    "    L_hat = -solver.q2 * (dv),\n",
    "    N_hat = lambda R: torch.fft.fft2(R[\"u\"] * R[\"v\"]**2 - (F + k) * R[\"v\"])\n",
    ")\n"
   ]
  },
  {
   "cell_type": "code",
   "execution_count": 5,
   "id": "854cc453",
   "metadata": {},
   "outputs": [
    {
     "data": {
      "text/plain": [
       "{'u': 0, 'v': 1}"
      ]
     },
     "execution_count": 5,
     "metadata": {},
     "output_type": "execute_result"
    }
   ],
   "source": [
    "solver.model.fields.name_to_idx"
   ]
  },
  {
   "cell_type": "code",
   "execution_count": 6,
   "id": "c51f26f1",
   "metadata": {},
   "outputs": [
    {
     "data": {
      "text/plain": [
       "torch.Size([128, 128])"
      ]
     },
     "execution_count": 6,
     "metadata": {},
     "output_type": "execute_result"
    }
   ],
   "source": [
    "solver.model.fields['u'].shape\n",
    "# plt.imshow(solver.model.fields['u'].cpu().numpy())"
   ]
  },
  {
   "cell_type": "code",
   "execution_count": 7,
   "id": "94f4d7b2",
   "metadata": {},
   "outputs": [],
   "source": [
    "# solver.run(1)\n",
    "# print('ran once')"
   ]
  },
  {
   "cell_type": "code",
   "execution_count": 8,
   "id": "963ef7fd",
   "metadata": {},
   "outputs": [],
   "source": [
    "# solver.model.fields['u']"
   ]
  },
  {
   "cell_type": "code",
   "execution_count": 7,
   "id": "0d338118",
   "metadata": {},
   "outputs": [
    {
     "name": "stdout",
     "output_type": "stream",
     "text": [
      "Elapsed time: 10.871623 seconds\n"
     ]
    }
   ],
   "source": [
    "import time \n",
    "\n",
    "traj = []\n",
    "start = time.time()\n",
    "for i in range(steps):\n",
    "    solver.run(1)\n",
    "    if i % solver.record_every_n_steps == 0:\n",
    "        traj.append(solver.model.fields['u'])\n",
    "end = time.time()\n",
    "print(f\"Elapsed time: {end - start:.6f} seconds\")\n",
    "traj = torch.stack(traj)"
   ]
  },
  {
   "cell_type": "code",
   "execution_count": null,
   "id": "37bc8334",
   "metadata": {},
   "outputs": [],
   "source": [
    "from IPython.display import HTML\n",
    "\n",
    "import matplotlib.pyplot as plt\n",
    "import matplotlib.animation as animation\n",
    "\n",
    "%matplotlib inline\n",
    "\n",
    "\n",
    "fig, ax = plt.subplots()\n",
    "im = ax.imshow(traj[0].detach().cpu().numpy(), cmap='viridis', origin='lower', animated=True)\n",
    "ax.set_title(\"PseudoSpectralSolver2D Evolution\")\n",
    "cbar = fig.colorbar(im, ax=ax)\n",
    "cbar.set_label(\"Field Value\")\n",
    "\n",
    "def update(frame):\n",
    "    im.set_array(traj[frame].detach().cpu().numpy())\n",
    "    ax.set_xlabel(f\"Step {frame}\")\n",
    "    im.set_clim(vmin=traj[frame].min().cpu().item(), vmax=traj[frame].max().cpu().item())\n",
    "    cbar.update_normal(im)\n",
    "    return [im]\n",
    "\n",
    "ani = animation.FuncAnimation(fig, update, frames=traj.shape[0], blit=True, interval=50)\n",
    "plt.close(fig)  # Prevents duplicate static plot\n",
    "display(HTML(ani.to_jshtml()))\n",
    "print(traj.shape)"
   ]
  },
  {
   "cell_type": "code",
   "execution_count": 11,
   "id": "a19dcfb6",
   "metadata": {},
   "outputs": [],
   "source": [
    "data = torch.randn(5, 128, 128)"
   ]
  },
  {
   "cell_type": "code",
   "execution_count": 12,
   "id": "c5704772",
   "metadata": {},
   "outputs": [],
   "source": [
    "data_fft = torch.fft.fft2(data)"
   ]
  },
  {
   "cell_type": "code",
   "execution_count": 13,
   "id": "45ca8a5e",
   "metadata": {},
   "outputs": [
    {
     "data": {
      "text/plain": [
       "torch.Size([5, 128, 128])"
      ]
     },
     "execution_count": 13,
     "metadata": {},
     "output_type": "execute_result"
    }
   ],
   "source": [
    "data_fft.shape"
   ]
  },
  {
   "cell_type": "code",
   "execution_count": 14,
   "id": "5fd36f78",
   "metadata": {},
   "outputs": [
    {
     "data": {
      "text/plain": [
       "(0, 1, 2)"
      ]
     },
     "execution_count": 14,
     "metadata": {},
     "output_type": "execute_result"
    }
   ],
   "source": [
    "(0,)+(1,2)"
   ]
  },
  {
   "cell_type": "code",
   "execution_count": 9,
   "id": "e938e6c4",
   "metadata": {},
   "outputs": [],
   "source": [
    "data = torch.randn(5, 128, 128, device = 'cuda')"
   ]
  },
  {
   "cell_type": "code",
   "execution_count": 12,
   "id": "77375014",
   "metadata": {},
   "outputs": [
    {
     "ename": "AttributeError",
     "evalue": "'Tensor' object has no attribute 'fft2'",
     "output_type": "error",
     "traceback": [
      "\u001b[31m---------------------------------------------------------------------------\u001b[39m",
      "\u001b[31mAttributeError\u001b[39m                            Traceback (most recent call last)",
      "\u001b[36mCell\u001b[39m\u001b[36m \u001b[39m\u001b[32mIn[12]\u001b[39m\u001b[32m, line 1\u001b[39m\n\u001b[32m----> \u001b[39m\u001b[32m1\u001b[39m \u001b[43mdata\u001b[49m\u001b[43m.\u001b[49m\u001b[43mfft2\u001b[49m()\n",
      "\u001b[31mAttributeError\u001b[39m: 'Tensor' object has no attribute 'fft2'"
     ]
    }
   ],
   "source": [
    "data.fft2()"
   ]
  },
  {
   "cell_type": "code",
   "execution_count": 17,
   "id": "99fc777f",
   "metadata": {},
   "outputs": [
    {
     "data": {
      "text/plain": [
       "torch.Size([5, 128, 128])"
      ]
     },
     "execution_count": 17,
     "metadata": {},
     "output_type": "execute_result"
    }
   ],
   "source": [
    "a  = torch.stack([i for i in data], dim = 0)\n",
    "a.shape"
   ]
  },
  {
   "cell_type": "code",
   "execution_count": 18,
   "id": "81d62e07",
   "metadata": {},
   "outputs": [
    {
     "data": {
      "text/plain": [
       "torch.Size([128, 128])"
      ]
     },
     "execution_count": 18,
     "metadata": {},
     "output_type": "execute_result"
    }
   ],
   "source": [
    "data[0].shape"
   ]
  },
  {
   "cell_type": "code",
   "execution_count": 19,
   "id": "5f8cccc8",
   "metadata": {},
   "outputs": [],
   "source": [
    "data[[0,3,4]] = torch.zeros_like(data[[0,3,4]]) "
   ]
  },
  {
   "cell_type": "code",
   "execution_count": 20,
   "id": "62483775",
   "metadata": {},
   "outputs": [
    {
     "data": {
      "text/plain": [
       "tensor([[[ 0.0000e+00,  0.0000e+00,  0.0000e+00,  ...,  0.0000e+00,\n",
       "           0.0000e+00,  0.0000e+00],\n",
       "         [ 0.0000e+00,  0.0000e+00,  0.0000e+00,  ...,  0.0000e+00,\n",
       "           0.0000e+00,  0.0000e+00],\n",
       "         [ 0.0000e+00,  0.0000e+00,  0.0000e+00,  ...,  0.0000e+00,\n",
       "           0.0000e+00,  0.0000e+00],\n",
       "         ...,\n",
       "         [ 0.0000e+00,  0.0000e+00,  0.0000e+00,  ...,  0.0000e+00,\n",
       "           0.0000e+00,  0.0000e+00],\n",
       "         [ 0.0000e+00,  0.0000e+00,  0.0000e+00,  ...,  0.0000e+00,\n",
       "           0.0000e+00,  0.0000e+00],\n",
       "         [ 0.0000e+00,  0.0000e+00,  0.0000e+00,  ...,  0.0000e+00,\n",
       "           0.0000e+00,  0.0000e+00]],\n",
       "\n",
       "        [[ 3.1043e-01,  2.9380e-01,  6.2636e-01,  ..., -8.2809e-01,\n",
       "           1.0208e+00, -5.9163e-01],\n",
       "         [-1.1424e+00, -1.6972e+00, -4.9643e-01,  ..., -4.8535e-01,\n",
       "          -5.9452e-01, -6.3947e-01],\n",
       "         [ 8.1869e-01, -4.9249e-01, -7.9414e-01,  ...,  7.0070e-01,\n",
       "           3.4647e-01,  1.1032e+00],\n",
       "         ...,\n",
       "         [ 5.8970e-01,  6.9109e-01, -5.1389e-01,  ..., -4.2048e-02,\n",
       "           2.5721e+00, -7.6802e-01],\n",
       "         [-2.5700e-02, -3.6159e-01,  8.0010e-02,  ...,  1.0157e+00,\n",
       "           9.3881e-01, -3.2909e-01],\n",
       "         [-1.3213e+00, -4.6771e-01, -1.2467e+00,  ..., -1.5871e+00,\n",
       "           1.4830e-03,  2.1180e-01]],\n",
       "\n",
       "        [[-1.0408e+00,  8.5583e-01,  1.4597e-01,  ..., -2.5288e+00,\n",
       "          -9.7920e-01,  4.3036e-01],\n",
       "         [ 7.3840e-01, -1.6081e-01, -5.2935e-01,  ...,  1.6343e-01,\n",
       "          -3.5065e-01, -1.3779e+00],\n",
       "         [ 4.0773e-01, -1.1982e+00,  2.3094e-01,  ..., -2.4028e-01,\n",
       "           3.1180e+00, -7.5365e-02],\n",
       "         ...,\n",
       "         [-6.1965e-01, -3.9638e-01,  5.6393e-02,  ...,  7.7082e-01,\n",
       "           3.5385e-02,  8.4838e-01],\n",
       "         [-2.0605e-01,  5.6785e-01, -7.9445e-01,  ..., -1.5439e+00,\n",
       "           5.6784e-01, -1.0064e+00],\n",
       "         [-1.1715e+00, -4.4130e-01,  1.4898e-01,  ..., -5.4809e-01,\n",
       "           1.1226e+00,  3.5861e-01]],\n",
       "\n",
       "        [[ 0.0000e+00,  0.0000e+00,  0.0000e+00,  ...,  0.0000e+00,\n",
       "           0.0000e+00,  0.0000e+00],\n",
       "         [ 0.0000e+00,  0.0000e+00,  0.0000e+00,  ...,  0.0000e+00,\n",
       "           0.0000e+00,  0.0000e+00],\n",
       "         [ 0.0000e+00,  0.0000e+00,  0.0000e+00,  ...,  0.0000e+00,\n",
       "           0.0000e+00,  0.0000e+00],\n",
       "         ...,\n",
       "         [ 0.0000e+00,  0.0000e+00,  0.0000e+00,  ...,  0.0000e+00,\n",
       "           0.0000e+00,  0.0000e+00],\n",
       "         [ 0.0000e+00,  0.0000e+00,  0.0000e+00,  ...,  0.0000e+00,\n",
       "           0.0000e+00,  0.0000e+00],\n",
       "         [ 0.0000e+00,  0.0000e+00,  0.0000e+00,  ...,  0.0000e+00,\n",
       "           0.0000e+00,  0.0000e+00]],\n",
       "\n",
       "        [[ 0.0000e+00,  0.0000e+00,  0.0000e+00,  ...,  0.0000e+00,\n",
       "           0.0000e+00,  0.0000e+00],\n",
       "         [ 0.0000e+00,  0.0000e+00,  0.0000e+00,  ...,  0.0000e+00,\n",
       "           0.0000e+00,  0.0000e+00],\n",
       "         [ 0.0000e+00,  0.0000e+00,  0.0000e+00,  ...,  0.0000e+00,\n",
       "           0.0000e+00,  0.0000e+00],\n",
       "         ...,\n",
       "         [ 0.0000e+00,  0.0000e+00,  0.0000e+00,  ...,  0.0000e+00,\n",
       "           0.0000e+00,  0.0000e+00],\n",
       "         [ 0.0000e+00,  0.0000e+00,  0.0000e+00,  ...,  0.0000e+00,\n",
       "           0.0000e+00,  0.0000e+00],\n",
       "         [ 0.0000e+00,  0.0000e+00,  0.0000e+00,  ...,  0.0000e+00,\n",
       "           0.0000e+00,  0.0000e+00]]], device='cuda:0')"
      ]
     },
     "execution_count": 20,
     "metadata": {},
     "output_type": "execute_result"
    }
   ],
   "source": [
    "data"
   ]
  },
  {
   "cell_type": "code",
   "execution_count": 21,
   "id": "87c58937",
   "metadata": {},
   "outputs": [],
   "source": [
    "a = torch.zeros( (0,) + (10,10) )"
   ]
  },
  {
   "cell_type": "code",
   "execution_count": 22,
   "id": "b833e69f",
   "metadata": {},
   "outputs": [
    {
     "data": {
      "text/plain": [
       "tensor([], size=(0, 10, 10))"
      ]
     },
     "execution_count": 22,
     "metadata": {},
     "output_type": "execute_result"
    }
   ],
   "source": [
    "torch.zeros_like(a[:1])"
   ]
  },
  {
   "cell_type": "code",
   "execution_count": null,
   "id": "6e1ca7e2",
   "metadata": {},
   "outputs": [],
   "source": []
  }
 ],
 "metadata": {
  "kernelspec": {
   "display_name": "ml",
   "language": "python",
   "name": "python3"
  },
  "language_info": {
   "codemirror_mode": {
    "name": "ipython",
    "version": 3
   },
   "file_extension": ".py",
   "mimetype": "text/x-python",
   "name": "python",
   "nbconvert_exporter": "python",
   "pygments_lexer": "ipython3",
   "version": "3.13.2"
  }
 },
 "nbformat": 4,
 "nbformat_minor": 5
}
