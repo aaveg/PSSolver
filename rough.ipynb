{
 "cells": [
  {
   "cell_type": "code",
   "execution_count": 2,
   "id": "3f3e384e",
   "metadata": {},
   "outputs": [],
   "source": [
    "import torch\n",
    "from Field import Fields"
   ]
  },
  {
   "cell_type": "code",
   "execution_count": 2,
   "id": "b681e5a1",
   "metadata": {},
   "outputs": [],
   "source": [
    "f = Fields([\"u\",\"v\",\"w\"], shape = (10,10,5), device= \"cuda\")"
   ]
  },
  {
   "cell_type": "code",
   "execution_count": null,
   "id": "37bc8334",
   "metadata": {},
   "outputs": [
    {
     "name": "stdout",
     "output_type": "stream",
     "text": [
      "tensor([[0., 0., 0., 0., 0., 0., 0., 0., 0., 0.],\n",
      "        [0., 0., 0., 0., 0., 0., 0., 0., 0., 0.],\n",
      "        [0., 0., 0., 0., 0., 0., 0., 0., 0., 0.],\n",
      "        [0., 0., 0., 0., 0., 0., 0., 0., 0., 0.],\n",
      "        [0., 0., 0., 0., 0., 0., 0., 0., 0., 0.],\n",
      "        [0., 0., 0., 0., 0., 0., 0., 0., 0., 0.],\n",
      "        [0., 0., 0., 0., 0., 0., 0., 0., 0., 0.],\n",
      "        [0., 0., 0., 0., 0., 0., 0., 0., 0., 0.],\n",
      "        [0., 0., 0., 0., 0., 0., 0., 0., 0., 0.],\n",
      "        [0., 0., 0., 0., 0., 0., 0., 0., 0., 0.]], device='cuda:0')\n"
     ]
    }
   ],
   "source": [
    "f.spatial"
   ]
  },
  {
   "cell_type": "code",
   "execution_count": 3,
   "id": "a19dcfb6",
   "metadata": {},
   "outputs": [],
   "source": [
    "data = torch.randn(5, 128, 128)"
   ]
  },
  {
   "cell_type": "code",
   "execution_count": 5,
   "id": "c5704772",
   "metadata": {},
   "outputs": [],
   "source": [
    "data_fft = torch.fft.fft2(data)"
   ]
  },
  {
   "cell_type": "code",
   "execution_count": 8,
   "id": "45ca8a5e",
   "metadata": {},
   "outputs": [
    {
     "data": {
      "text/plain": [
       "torch.Size([5, 128, 128])"
      ]
     },
     "execution_count": 8,
     "metadata": {},
     "output_type": "execute_result"
    }
   ],
   "source": [
    "data_fft.shape"
   ]
  },
  {
   "cell_type": "code",
   "execution_count": null,
   "id": "5fd36f78",
   "metadata": {},
   "outputs": [],
   "source": []
  }
 ],
 "metadata": {
  "kernelspec": {
   "display_name": "ml",
   "language": "python",
   "name": "python3"
  },
  "language_info": {
   "codemirror_mode": {
    "name": "ipython",
    "version": 3
   },
   "file_extension": ".py",
   "mimetype": "text/x-python",
   "name": "python",
   "nbconvert_exporter": "python",
   "pygments_lexer": "ipython3",
   "version": "3.13.2"
  }
 },
 "nbformat": 4,
 "nbformat_minor": 5
}
